{
  "cells": [
    {
      "cell_type": "code",
      "execution_count": null,
      "metadata": {
        "colab": {
          "base_uri": "https://localhost:8080/"
        },
        "id": "I3Ky-0HLgP8i",
        "outputId": "e4ca1901-b8ad-4371-a3d5-b37f92b793a0"
      },
      "outputs": [
        {
          "name": "stdout",
          "output_type": "stream",
          "text": [
            "\u001b[?25l   \u001b[90m━━━━━━━━━━━━━━━━━━━━━━━━━━━━━━━━━━━━━━━━\u001b[0m \u001b[32m0.0/491.5 kB\u001b[0m \u001b[31m?\u001b[0m eta \u001b[36m-:--:--\u001b[0m\r\u001b[2K   \u001b[91m━━━━━━━━━━━━━━━━━━━━━━━━━━━━━━━━━━━━━━━\u001b[0m\u001b[91m╸\u001b[0m \u001b[32m491.5/491.5 kB\u001b[0m \u001b[31m14.6 MB/s\u001b[0m eta \u001b[36m0:00:01\u001b[0m\r\u001b[2K   \u001b[90m━━━━━━━━━━━━━━━━━━━━━━━━━━━━━━━━━━━━━━━━\u001b[0m \u001b[32m491.5/491.5 kB\u001b[0m \u001b[31m9.7 MB/s\u001b[0m eta \u001b[36m0:00:00\u001b[0m\n",
            "\u001b[?25h\u001b[?25l   \u001b[90m━━━━━━━━━━━━━━━━━━━━━━━━━━━━━━━━━━━━━━━━\u001b[0m \u001b[32m0.0/193.6 kB\u001b[0m \u001b[31m?\u001b[0m eta \u001b[36m-:--:--\u001b[0m\r\u001b[2K   \u001b[90m━━━━━━━━━━━━━━━━━━━━━━━━━━━━━━━━━━━━━━━━\u001b[0m \u001b[32m193.6/193.6 kB\u001b[0m \u001b[31m14.3 MB/s\u001b[0m eta \u001b[36m0:00:00\u001b[0m\n",
            "\u001b[?25h\u001b[31mERROR: pip's dependency resolver does not currently take into account all the packages that are installed. This behaviour is the source of the following dependency conflicts.\n",
            "gcsfs 2025.3.2 requires fsspec==2025.3.2, but you have fsspec 2025.3.0 which is incompatible.\n",
            "torch 2.6.0+cu124 requires nvidia-cublas-cu12==12.4.5.8; platform_system == \"Linux\" and platform_machine == \"x86_64\", but you have nvidia-cublas-cu12 12.5.3.2 which is incompatible.\n",
            "torch 2.6.0+cu124 requires nvidia-cuda-cupti-cu12==12.4.127; platform_system == \"Linux\" and platform_machine == \"x86_64\", but you have nvidia-cuda-cupti-cu12 12.5.82 which is incompatible.\n",
            "torch 2.6.0+cu124 requires nvidia-cuda-nvrtc-cu12==12.4.127; platform_system == \"Linux\" and platform_machine == \"x86_64\", but you have nvidia-cuda-nvrtc-cu12 12.5.82 which is incompatible.\n",
            "torch 2.6.0+cu124 requires nvidia-cuda-runtime-cu12==12.4.127; platform_system == \"Linux\" and platform_machine == \"x86_64\", but you have nvidia-cuda-runtime-cu12 12.5.82 which is incompatible.\n",
            "torch 2.6.0+cu124 requires nvidia-cudnn-cu12==9.1.0.70; platform_system == \"Linux\" and platform_machine == \"x86_64\", but you have nvidia-cudnn-cu12 9.3.0.75 which is incompatible.\n",
            "torch 2.6.0+cu124 requires nvidia-cufft-cu12==11.2.1.3; platform_system == \"Linux\" and platform_machine == \"x86_64\", but you have nvidia-cufft-cu12 11.2.3.61 which is incompatible.\n",
            "torch 2.6.0+cu124 requires nvidia-curand-cu12==10.3.5.147; platform_system == \"Linux\" and platform_machine == \"x86_64\", but you have nvidia-curand-cu12 10.3.6.82 which is incompatible.\n",
            "torch 2.6.0+cu124 requires nvidia-cusolver-cu12==11.6.1.9; platform_system == \"Linux\" and platform_machine == \"x86_64\", but you have nvidia-cusolver-cu12 11.6.3.83 which is incompatible.\n",
            "torch 2.6.0+cu124 requires nvidia-cusparse-cu12==12.3.1.170; platform_system == \"Linux\" and platform_machine == \"x86_64\", but you have nvidia-cusparse-cu12 12.5.1.3 which is incompatible.\n",
            "torch 2.6.0+cu124 requires nvidia-nvjitlink-cu12==12.4.127; platform_system == \"Linux\" and platform_machine == \"x86_64\", but you have nvidia-nvjitlink-cu12 12.5.82 which is incompatible.\u001b[0m\u001b[31m\n",
            "\u001b[0m"
          ]
        }
      ],
      "source": [
        "!pip install datasets --upgrade -q"
      ]
    },
    {
      "cell_type": "code",
      "execution_count": null,
      "metadata": {
        "id": "8CG7PLBzdaGi"
      },
      "outputs": [],
      "source": [
        "from transformers import AutoTokenizer, TFAutoModelForSequenceClassification\n",
        "from sklearn.model_selection import train_test_split\n",
        "from datasets import Dataset, DatasetDict,load_dataset\n",
        "from sklearn.utils.class_weight import compute_class_weight\n",
        "from sklearn.metrics import recall_score, precision_score, f1_score, roc_auc_score,accuracy_score, confusion_matrix, classification_report\n",
        "import matplotlib.pyplot as plt\n",
        "\n",
        "import numpy as np\n",
        "import pandas as pd\n",
        "import tensorflow as tf\n",
        "import seaborn as sns"
      ]
    },
    {
      "cell_type": "code",
      "execution_count": null,
      "metadata": {
        "colab": {
          "base_uri": "https://localhost:8080/"
        },
        "id": "8H_LdmlyidMT",
        "outputId": "14f78854-e280-4411-ea27-bc3f2faf1f7b"
      },
      "outputs": [
        {
          "name": "stdout",
          "output_type": "stream",
          "text": [
            "Mounted at /content/drive\n"
          ]
        }
      ],
      "source": [
        "from google.colab import drive\n",
        "drive.mount('/content/drive')"
      ]
    },
    {
      "cell_type": "markdown",
      "metadata": {
        "id": "8SbZeYzWaKC2"
      },
      "source": [
        "# load model"
      ]
    },
    {
      "cell_type": "code",
      "execution_count": null,
      "metadata": {
        "colab": {
          "base_uri": "https://localhost:8080/",
          "height": 304,
          "referenced_widgets": [
            "0eda2f33af7a4cb79a9c6518b5a4fd0b",
            "7cd8b524bd8d4b23b360de0a7b4f5714",
            "d12a9c37ee084fa1ba6e6b0287ac7b81",
            "e8278056db07443d815e3be8162ce693",
            "dc49f65d28be41ffaac8dd1f6f08cc57",
            "e5f882f40dfc4076a9a7df84e39b3a35",
            "13188dacdbcd41f5b3cefbfc078a40bd",
            "5a122352d50b41a4ad2ec6fdbced0995",
            "d594ecb1d6ad441499602e26afb9d0d7",
            "eadb4305c5894ce1b48931fe05f6d7fc",
            "31fa3686c44d4de9971507c264676158",
            "49428aedeb4c439e92595c2295f6284f",
            "3ea4c0c611cd4836bb74b8c2cae289a8",
            "8c2638d0442e40eab1014263b480f653",
            "5de38e4e36fa42329b8fdf3f6a8b0be5",
            "de9cb91834cd430a8fae81411c7c94f4",
            "abe8b869db0d4f4f986da7922f120806",
            "6f08e4ba10aa4930993c9fe4a9cbe48c",
            "d9f9e8ed36c84244b42e4c8ad75ef8d6",
            "2508e9ef152940a593ca1c45b2c5c45a",
            "38c2010cb3c34a278652f67598fd1d95",
            "43952800213347a082ded63229ef872f"
          ]
        },
        "id": "F7DdrTkFd0f5",
        "outputId": "be45d06b-add5-4fe0-bf9f-49051829ceda"
      },
      "outputs": [
        {
          "name": "stderr",
          "output_type": "stream",
          "text": [
            "/usr/local/lib/python3.11/dist-packages/huggingface_hub/utils/_auth.py:94: UserWarning: \n",
            "The secret `HF_TOKEN` does not exist in your Colab secrets.\n",
            "To authenticate with the Hugging Face Hub, create a token in your settings tab (https://huggingface.co/settings/tokens), set it as secret in your Google Colab and restart your session.\n",
            "You will be able to reuse this secret in all of your notebooks.\n",
            "Please note that authentication is recommended but still optional to access public models or datasets.\n",
            "  warnings.warn(\n"
          ]
        },
        {
          "data": {
            "application/vnd.jupyter.widget-view+json": {
              "model_id": "0eda2f33af7a4cb79a9c6518b5a4fd0b",
              "version_major": 2,
              "version_minor": 0
            },
            "text/plain": [
              "config.json:   0%|          | 0.00/677 [00:00<?, ?B/s]"
            ]
          },
          "metadata": {},
          "output_type": "display_data"
        },
        {
          "data": {
            "application/vnd.jupyter.widget-view+json": {
              "model_id": "49428aedeb4c439e92595c2295f6284f",
              "version_major": 2,
              "version_minor": 0
            },
            "text/plain": [
              "model.safetensors:   0%|          | 0.00/435M [00:00<?, ?B/s]"
            ]
          },
          "metadata": {},
          "output_type": "display_data"
        },
        {
          "name": "stderr",
          "output_type": "stream",
          "text": [
            "Some weights of the PyTorch model were not used when initializing the TF 2.0 model TFRobertaForSequenceClassification: ['roberta.embeddings.position_ids']\n",
            "- This IS expected if you are initializing TFRobertaForSequenceClassification from a PyTorch model trained on another task or with another architecture (e.g. initializing a TFBertForSequenceClassification model from a BertForPreTraining model).\n",
            "- This IS NOT expected if you are initializing TFRobertaForSequenceClassification from a PyTorch model that you expect to be exactly identical (e.g. initializing a TFBertForSequenceClassification model from a BertForSequenceClassification model).\n",
            "Some weights or buffers of the TF 2.0 model TFRobertaForSequenceClassification were not initialized from the PyTorch model and are newly initialized: ['classifier.dense.weight', 'classifier.dense.bias', 'classifier.out_proj.weight', 'classifier.out_proj.bias']\n",
            "You should probably TRAIN this model on a down-stream task to be able to use it for predictions and inference.\n"
          ]
        }
      ],
      "source": [
        "# 4. Initialize classification model\n",
        "classification_model = TFAutoModelForSequenceClassification.from_pretrained(\n",
        "    \"pysentimiento/robertuito-base-uncased\",\n",
        "    num_labels=5,\n",
        "    output_attentions=True,\n",
        "    ignore_mismatched_sizes=True  # Required for architecture change\n",
        ")\n",
        "\n",
        "tokenizer = AutoTokenizer.from_pretrained(\"/content/drive/MyDrive/HateMedia/Modelos/OdioNoOdio/Final/hate-trained-robertuito_OdioNoOdio_final_new_cardiff_extra_layer_tokenizer\")\n",
        "tokenizer.model_max_length = 128\n",
        "\n",
        "classification_model.get_layer('roberta').trainable = True\n",
        "classification_model.get_layer('classifier').trainable = True"
      ]
    },
    {
      "cell_type": "code",
      "execution_count": null,
      "metadata": {
        "id": "T-D89mY0njes"
      },
      "outputs": [],
      "source": [
        "# Re-define the model architecture\n",
        "num_labels = 5\n",
        "# set input ids as input\n",
        "input_ids = tf.keras.layers.Input(shape=(128,), dtype=tf.int32, name='input_ids')\n",
        "\n",
        "# set attention mask as input\n",
        "attention_mask = tf.keras.layers.Input(shape=(128,), dtype=tf.int32, name='attention_mask')\n",
        "\n",
        "# modify the model\n",
        "output = classification_model(input_ids, attention_mask=attention_mask)[0]\n",
        "output = tf.keras.layers.Dense(num_labels)(output[:, :])\n",
        "\n",
        "# set the model to its final form\n",
        "classification_model = tf.keras.Model(inputs=[input_ids, attention_mask], outputs=output)"
      ]
    },
    {
      "cell_type": "code",
      "execution_count": null,
      "metadata": {
        "colab": {
          "base_uri": "https://localhost:8080/"
        },
        "id": "7UVkYe-Udnkq",
        "outputId": "b37974f6-e6ed-4234-dfdc-50dd5afe4680"
      },
      "outputs": [
        {
          "name": "stderr",
          "output_type": "stream",
          "text": [
            "WARNING:tensorflow:Skipping loading weights for layer #2 (named tf_roberta_for_sequence_classification) due to mismatch in shape for weight tf_roberta_for_sequence_classification/classifier/out_proj/kernel:0. Weight expects shape (768, 5). Received saved weight with shape (768, 2)\n",
            "WARNING:tensorflow:Skipping loading weights for layer #2 (named tf_roberta_for_sequence_classification) due to mismatch in shape for weight tf_roberta_for_sequence_classification/classifier/out_proj/bias:0. Weight expects shape (5,). Received saved weight with shape (2,)\n",
            "WARNING:tensorflow:Skipping loading weights for layer #4 (named dense) due to mismatch in shape for weight dense/kernel:0. Weight expects shape (5, 5). Received saved weight with shape (2, 2)\n",
            "WARNING:tensorflow:Skipping loading weights for layer #4 (named dense) due to mismatch in shape for weight dense/bias:0. Weight expects shape (5,). Received saved weight with shape (2,)\n"
          ]
        }
      ],
      "source": [
        "# Rebuild the model architecture first\n",
        "classification_model.load_weights(\"/content/drive/MyDrive/HateMedia/Modelos/OdioNoOdio/Final/hate-trained-robertuito_OdioNoOdio_final_new_cardiff_extra_layer.h5\",skip_mismatch=True, by_name=True)"
      ]
    },
    {
      "cell_type": "code",
      "execution_count": null,
      "metadata": {
        "colab": {
          "base_uri": "https://localhost:8080/"
        },
        "id": "IDYO0RwWhBc5",
        "outputId": "2cdcc569-cf23-4118-be8a-9573881c87ac"
      },
      "outputs": [
        {
          "name": "stdout",
          "output_type": "stream",
          "text": [
            "Model: \"model\"\n",
            "__________________________________________________________________________________________________\n",
            " Layer (type)                Output Shape                 Param #   Connected to                  \n",
            "==================================================================================================\n",
            " input_ids (InputLayer)      [(None, 128)]                0         []                            \n",
            "                                                                                                  \n",
            " attention_mask (InputLayer  [(None, 128)]                0         []                            \n",
            " )                                                                                                \n",
            "                                                                                                  \n",
            " tf_roberta_for_sequence_cl  TFSequenceClassifierOutput   1087910   ['input_ids[0][0]',           \n",
            " assification (TFRobertaFor  (loss=None, logits=(None,    45         'attention_mask[0][0]']      \n",
            " SequenceClassification)     5),                                                                  \n",
            "                              hidden_states=None, atten                                           \n",
            "                             tions=((None, 12, None, 12                                           \n",
            "                             8),                                                                  \n",
            "                              (None, 12, None, 128),                                              \n",
            "                              (None, 12, None, 128),                                              \n",
            "                              (None, 12, None, 128),                                              \n",
            "                              (None, 12, None, 128),                                              \n",
            "                              (None, 12, None, 128),                                              \n",
            "                              (None, 12, None, 128),                                              \n",
            "                              (None, 12, None, 128),                                              \n",
            "                              (None, 12, None, 128),                                              \n",
            "                              (None, 12, None, 128),                                              \n",
            "                              (None, 12, None, 128),                                              \n",
            "                              (None, 12, None, 128)))                                             \n",
            "                                                                                                  \n",
            " tf.__operators__.getitem (  (None, 5)                    0         ['tf_roberta_for_sequence_clas\n",
            " SlicingOpLambda)                                                   sification[0][12]']           \n",
            "                                                                                                  \n",
            " dense (Dense)               (None, 5)                    30        ['tf.__operators__.getitem[0][\n",
            "                                                                    0]']                          \n",
            "                                                                                                  \n",
            "==================================================================================================\n",
            "Total params: 108791075 (415.01 MB)\n",
            "Trainable params: 108791075 (415.01 MB)\n",
            "Non-trainable params: 0 (0.00 Byte)\n",
            "__________________________________________________________________________________________________\n"
          ]
        }
      ],
      "source": [
        "classification_model.summary()"
      ]
    },
    {
      "cell_type": "markdown",
      "metadata": {
        "id": "MS85yiK5aL5Q"
      },
      "source": [
        "# Read data"
      ]
    },
    {
      "cell_type": "code",
      "execution_count": null,
      "metadata": {
        "id": "9PD30bKFbpRj"
      },
      "outputs": [],
      "source": [
        "# Preprocess data function to create TensorFlow datasets\n",
        "def preprocess_data(split_df,num_labels):\n",
        "# Tokenize the texts and set maximum length, truncation and padding size\n",
        "  texts = split_df['text'].tolist()\n",
        "  encodings = tokenizer(texts, truncation=True, padding='max_length', max_length=128,return_token_type_ids=False)\n",
        "\n",
        "# Convert the labels to one-hot encoding\n",
        "  labels = split_df['label'].tolist()\n",
        "  labels_encoded = tf.one_hot(labels, num_labels)\n",
        "\n",
        "# Create TensorFlow datasets\n",
        "  dataset = tf.data.Dataset.from_tensor_slices((dict(encodings), labels_encoded))\n",
        "\n",
        "  return dataset"
      ]
    },
    {
      "cell_type": "code",
      "execution_count": null,
      "metadata": {
        "colab": {
          "base_uri": "https://localhost:8080/",
          "height": 423
        },
        "id": "-c7MsoYXaM1Q",
        "outputId": "f2438366-f87b-494b-9436-b420270e050e"
      },
      "outputs": [
        {
          "data": {
            "application/vnd.google.colaboratory.intrinsic+json": {
              "type": "dataframe",
              "variable_name": "df_in"
            },
            "text/html": [
              "\n",
              "  <div id=\"df-2a1e3d5b-8fbd-40c6-980b-a11fd6689f7b\" class=\"colab-df-container\">\n",
              "    <div>\n",
              "<style scoped>\n",
              "    .dataframe tbody tr th:only-of-type {\n",
              "        vertical-align: middle;\n",
              "    }\n",
              "\n",
              "    .dataframe tbody tr th {\n",
              "        vertical-align: top;\n",
              "    }\n",
              "\n",
              "    .dataframe thead th {\n",
              "        text-align: right;\n",
              "    }\n",
              "</style>\n",
              "<table border=\"1\" class=\"dataframe\">\n",
              "  <thead>\n",
              "    <tr style=\"text-align: right;\">\n",
              "      <th></th>\n",
              "      <th>text</th>\n",
              "      <th>label</th>\n",
              "    </tr>\n",
              "  </thead>\n",
              "  <tbody>\n",
              "    <tr>\n",
              "      <th>0</th>\n",
              "      <td>@usuario marlasca maricon hdlgp  !!!</td>\n",
              "      <td>1</td>\n",
              "    </tr>\n",
              "    <tr>\n",
              "      <th>1</th>\n",
              "      <td>@usuario sánchez cabronazo maricon deja de jod...</td>\n",
              "      <td>1</td>\n",
              "    </tr>\n",
              "    <tr>\n",
              "      <th>2</th>\n",
              "      <td>@usuario putos dictadores comunistas zurrapast...</td>\n",
              "      <td>1</td>\n",
              "    </tr>\n",
              "    <tr>\n",
              "      <th>3</th>\n",
              "      <td>@usuario la gente es gilipollas comprar mierda...</td>\n",
              "      <td>1</td>\n",
              "    </tr>\n",
              "    <tr>\n",
              "      <th>4</th>\n",
              "      <td>@usuario @usuario la imagen del rey tapándose ...</td>\n",
              "      <td>1</td>\n",
              "    </tr>\n",
              "    <tr>\n",
              "      <th>...</th>\n",
              "      <td>...</td>\n",
              "      <td>...</td>\n",
              "    </tr>\n",
              "    <tr>\n",
              "      <th>1076944</th>\n",
              "      <td>Pero no toqué en la Juventus.</td>\n",
              "      <td>5</td>\n",
              "    </tr>\n",
              "    <tr>\n",
              "      <th>1076945</th>\n",
              "      <td>goldman Sachs o libertad</td>\n",
              "      <td>5</td>\n",
              "    </tr>\n",
              "    <tr>\n",
              "      <th>1076946</th>\n",
              "      <td>El aborto es un asesinato y lo que pasa es un ...</td>\n",
              "      <td>5</td>\n",
              "    </tr>\n",
              "    <tr>\n",
              "      <th>1076947</th>\n",
              "      <td>el odio, pero el odio de la</td>\n",
              "      <td>5</td>\n",
              "    </tr>\n",
              "    <tr>\n",
              "      <th>1076948</th>\n",
              "      <td>Adolescentes de 21 años</td>\n",
              "      <td>5</td>\n",
              "    </tr>\n",
              "  </tbody>\n",
              "</table>\n",
              "<p>1076949 rows × 2 columns</p>\n",
              "</div>\n",
              "    <div class=\"colab-df-buttons\">\n",
              "\n",
              "  <div class=\"colab-df-container\">\n",
              "    <button class=\"colab-df-convert\" onclick=\"convertToInteractive('df-2a1e3d5b-8fbd-40c6-980b-a11fd6689f7b')\"\n",
              "            title=\"Convert this dataframe to an interactive table.\"\n",
              "            style=\"display:none;\">\n",
              "\n",
              "  <svg xmlns=\"http://www.w3.org/2000/svg\" height=\"24px\" viewBox=\"0 -960 960 960\">\n",
              "    <path d=\"M120-120v-720h720v720H120Zm60-500h600v-160H180v160Zm220 220h160v-160H400v160Zm0 220h160v-160H400v160ZM180-400h160v-160H180v160Zm440 0h160v-160H620v160ZM180-180h160v-160H180v160Zm440 0h160v-160H620v160Z\"/>\n",
              "  </svg>\n",
              "    </button>\n",
              "\n",
              "  <style>\n",
              "    .colab-df-container {\n",
              "      display:flex;\n",
              "      gap: 12px;\n",
              "    }\n",
              "\n",
              "    .colab-df-convert {\n",
              "      background-color: #E8F0FE;\n",
              "      border: none;\n",
              "      border-radius: 50%;\n",
              "      cursor: pointer;\n",
              "      display: none;\n",
              "      fill: #1967D2;\n",
              "      height: 32px;\n",
              "      padding: 0 0 0 0;\n",
              "      width: 32px;\n",
              "    }\n",
              "\n",
              "    .colab-df-convert:hover {\n",
              "      background-color: #E2EBFA;\n",
              "      box-shadow: 0px 1px 2px rgba(60, 64, 67, 0.3), 0px 1px 3px 1px rgba(60, 64, 67, 0.15);\n",
              "      fill: #174EA6;\n",
              "    }\n",
              "\n",
              "    .colab-df-buttons div {\n",
              "      margin-bottom: 4px;\n",
              "    }\n",
              "\n",
              "    [theme=dark] .colab-df-convert {\n",
              "      background-color: #3B4455;\n",
              "      fill: #D2E3FC;\n",
              "    }\n",
              "\n",
              "    [theme=dark] .colab-df-convert:hover {\n",
              "      background-color: #434B5C;\n",
              "      box-shadow: 0px 1px 3px 1px rgba(0, 0, 0, 0.15);\n",
              "      filter: drop-shadow(0px 1px 2px rgba(0, 0, 0, 0.3));\n",
              "      fill: #FFFFFF;\n",
              "    }\n",
              "  </style>\n",
              "\n",
              "    <script>\n",
              "      const buttonEl =\n",
              "        document.querySelector('#df-2a1e3d5b-8fbd-40c6-980b-a11fd6689f7b button.colab-df-convert');\n",
              "      buttonEl.style.display =\n",
              "        google.colab.kernel.accessAllowed ? 'block' : 'none';\n",
              "\n",
              "      async function convertToInteractive(key) {\n",
              "        const element = document.querySelector('#df-2a1e3d5b-8fbd-40c6-980b-a11fd6689f7b');\n",
              "        const dataTable =\n",
              "          await google.colab.kernel.invokeFunction('convertToInteractive',\n",
              "                                                    [key], {});\n",
              "        if (!dataTable) return;\n",
              "\n",
              "        const docLinkHtml = 'Like what you see? Visit the ' +\n",
              "          '<a target=\"_blank\" href=https://colab.research.google.com/notebooks/data_table.ipynb>data table notebook</a>'\n",
              "          + ' to learn more about interactive tables.';\n",
              "        element.innerHTML = '';\n",
              "        dataTable['output_type'] = 'display_data';\n",
              "        await google.colab.output.renderOutput(dataTable, element);\n",
              "        const docLink = document.createElement('div');\n",
              "        docLink.innerHTML = docLinkHtml;\n",
              "        element.appendChild(docLink);\n",
              "      }\n",
              "    </script>\n",
              "  </div>\n",
              "\n",
              "\n",
              "    <div id=\"df-f9550582-b520-4bbe-a35d-392e1ebca0fd\">\n",
              "      <button class=\"colab-df-quickchart\" onclick=\"quickchart('df-f9550582-b520-4bbe-a35d-392e1ebca0fd')\"\n",
              "                title=\"Suggest charts\"\n",
              "                style=\"display:none;\">\n",
              "\n",
              "<svg xmlns=\"http://www.w3.org/2000/svg\" height=\"24px\"viewBox=\"0 0 24 24\"\n",
              "     width=\"24px\">\n",
              "    <g>\n",
              "        <path d=\"M19 3H5c-1.1 0-2 .9-2 2v14c0 1.1.9 2 2 2h14c1.1 0 2-.9 2-2V5c0-1.1-.9-2-2-2zM9 17H7v-7h2v7zm4 0h-2V7h2v10zm4 0h-2v-4h2v4z\"/>\n",
              "    </g>\n",
              "</svg>\n",
              "      </button>\n",
              "\n",
              "<style>\n",
              "  .colab-df-quickchart {\n",
              "      --bg-color: #E8F0FE;\n",
              "      --fill-color: #1967D2;\n",
              "      --hover-bg-color: #E2EBFA;\n",
              "      --hover-fill-color: #174EA6;\n",
              "      --disabled-fill-color: #AAA;\n",
              "      --disabled-bg-color: #DDD;\n",
              "  }\n",
              "\n",
              "  [theme=dark] .colab-df-quickchart {\n",
              "      --bg-color: #3B4455;\n",
              "      --fill-color: #D2E3FC;\n",
              "      --hover-bg-color: #434B5C;\n",
              "      --hover-fill-color: #FFFFFF;\n",
              "      --disabled-bg-color: #3B4455;\n",
              "      --disabled-fill-color: #666;\n",
              "  }\n",
              "\n",
              "  .colab-df-quickchart {\n",
              "    background-color: var(--bg-color);\n",
              "    border: none;\n",
              "    border-radius: 50%;\n",
              "    cursor: pointer;\n",
              "    display: none;\n",
              "    fill: var(--fill-color);\n",
              "    height: 32px;\n",
              "    padding: 0;\n",
              "    width: 32px;\n",
              "  }\n",
              "\n",
              "  .colab-df-quickchart:hover {\n",
              "    background-color: var(--hover-bg-color);\n",
              "    box-shadow: 0 1px 2px rgba(60, 64, 67, 0.3), 0 1px 3px 1px rgba(60, 64, 67, 0.15);\n",
              "    fill: var(--button-hover-fill-color);\n",
              "  }\n",
              "\n",
              "  .colab-df-quickchart-complete:disabled,\n",
              "  .colab-df-quickchart-complete:disabled:hover {\n",
              "    background-color: var(--disabled-bg-color);\n",
              "    fill: var(--disabled-fill-color);\n",
              "    box-shadow: none;\n",
              "  }\n",
              "\n",
              "  .colab-df-spinner {\n",
              "    border: 2px solid var(--fill-color);\n",
              "    border-color: transparent;\n",
              "    border-bottom-color: var(--fill-color);\n",
              "    animation:\n",
              "      spin 1s steps(1) infinite;\n",
              "  }\n",
              "\n",
              "  @keyframes spin {\n",
              "    0% {\n",
              "      border-color: transparent;\n",
              "      border-bottom-color: var(--fill-color);\n",
              "      border-left-color: var(--fill-color);\n",
              "    }\n",
              "    20% {\n",
              "      border-color: transparent;\n",
              "      border-left-color: var(--fill-color);\n",
              "      border-top-color: var(--fill-color);\n",
              "    }\n",
              "    30% {\n",
              "      border-color: transparent;\n",
              "      border-left-color: var(--fill-color);\n",
              "      border-top-color: var(--fill-color);\n",
              "      border-right-color: var(--fill-color);\n",
              "    }\n",
              "    40% {\n",
              "      border-color: transparent;\n",
              "      border-right-color: var(--fill-color);\n",
              "      border-top-color: var(--fill-color);\n",
              "    }\n",
              "    60% {\n",
              "      border-color: transparent;\n",
              "      border-right-color: var(--fill-color);\n",
              "    }\n",
              "    80% {\n",
              "      border-color: transparent;\n",
              "      border-right-color: var(--fill-color);\n",
              "      border-bottom-color: var(--fill-color);\n",
              "    }\n",
              "    90% {\n",
              "      border-color: transparent;\n",
              "      border-bottom-color: var(--fill-color);\n",
              "    }\n",
              "  }\n",
              "</style>\n",
              "\n",
              "      <script>\n",
              "        async function quickchart(key) {\n",
              "          const quickchartButtonEl =\n",
              "            document.querySelector('#' + key + ' button');\n",
              "          quickchartButtonEl.disabled = true;  // To prevent multiple clicks.\n",
              "          quickchartButtonEl.classList.add('colab-df-spinner');\n",
              "          try {\n",
              "            const charts = await google.colab.kernel.invokeFunction(\n",
              "                'suggestCharts', [key], {});\n",
              "          } catch (error) {\n",
              "            console.error('Error during call to suggestCharts:', error);\n",
              "          }\n",
              "          quickchartButtonEl.classList.remove('colab-df-spinner');\n",
              "          quickchartButtonEl.classList.add('colab-df-quickchart-complete');\n",
              "        }\n",
              "        (() => {\n",
              "          let quickchartButtonEl =\n",
              "            document.querySelector('#df-f9550582-b520-4bbe-a35d-392e1ebca0fd button');\n",
              "          quickchartButtonEl.style.display =\n",
              "            google.colab.kernel.accessAllowed ? 'block' : 'none';\n",
              "        })();\n",
              "      </script>\n",
              "    </div>\n",
              "\n",
              "  <div id=\"id_d2a7b2b5-14c9-4269-933e-8f7f230f609b\">\n",
              "    <style>\n",
              "      .colab-df-generate {\n",
              "        background-color: #E8F0FE;\n",
              "        border: none;\n",
              "        border-radius: 50%;\n",
              "        cursor: pointer;\n",
              "        display: none;\n",
              "        fill: #1967D2;\n",
              "        height: 32px;\n",
              "        padding: 0 0 0 0;\n",
              "        width: 32px;\n",
              "      }\n",
              "\n",
              "      .colab-df-generate:hover {\n",
              "        background-color: #E2EBFA;\n",
              "        box-shadow: 0px 1px 2px rgba(60, 64, 67, 0.3), 0px 1px 3px 1px rgba(60, 64, 67, 0.15);\n",
              "        fill: #174EA6;\n",
              "      }\n",
              "\n",
              "      [theme=dark] .colab-df-generate {\n",
              "        background-color: #3B4455;\n",
              "        fill: #D2E3FC;\n",
              "      }\n",
              "\n",
              "      [theme=dark] .colab-df-generate:hover {\n",
              "        background-color: #434B5C;\n",
              "        box-shadow: 0px 1px 3px 1px rgba(0, 0, 0, 0.15);\n",
              "        filter: drop-shadow(0px 1px 2px rgba(0, 0, 0, 0.3));\n",
              "        fill: #FFFFFF;\n",
              "      }\n",
              "    </style>\n",
              "    <button class=\"colab-df-generate\" onclick=\"generateWithVariable('df_in')\"\n",
              "            title=\"Generate code using this dataframe.\"\n",
              "            style=\"display:none;\">\n",
              "\n",
              "  <svg xmlns=\"http://www.w3.org/2000/svg\" height=\"24px\"viewBox=\"0 0 24 24\"\n",
              "       width=\"24px\">\n",
              "    <path d=\"M7,19H8.4L18.45,9,17,7.55,7,17.6ZM5,21V16.75L18.45,3.32a2,2,0,0,1,2.83,0l1.4,1.43a1.91,1.91,0,0,1,.58,1.4,1.91,1.91,0,0,1-.58,1.4L9.25,21ZM18.45,9,17,7.55Zm-12,3A5.31,5.31,0,0,0,4.9,8.1,5.31,5.31,0,0,0,1,6.5,5.31,5.31,0,0,0,4.9,4.9,5.31,5.31,0,0,0,6.5,1,5.31,5.31,0,0,0,8.1,4.9,5.31,5.31,0,0,0,12,6.5,5.46,5.46,0,0,0,6.5,12Z\"/>\n",
              "  </svg>\n",
              "    </button>\n",
              "    <script>\n",
              "      (() => {\n",
              "      const buttonEl =\n",
              "        document.querySelector('#id_d2a7b2b5-14c9-4269-933e-8f7f230f609b button.colab-df-generate');\n",
              "      buttonEl.style.display =\n",
              "        google.colab.kernel.accessAllowed ? 'block' : 'none';\n",
              "\n",
              "      buttonEl.onclick = () => {\n",
              "        google.colab.notebook.generateWithVariable('df_in');\n",
              "      }\n",
              "      })();\n",
              "    </script>\n",
              "  </div>\n",
              "\n",
              "    </div>\n",
              "  </div>\n"
            ],
            "text/plain": [
              "                                                      text  label\n",
              "0                     @usuario marlasca maricon hdlgp  !!!      1\n",
              "1        @usuario sánchez cabronazo maricon deja de jod...      1\n",
              "2        @usuario putos dictadores comunistas zurrapast...      1\n",
              "3        @usuario la gente es gilipollas comprar mierda...      1\n",
              "4        @usuario @usuario la imagen del rey tapándose ...      1\n",
              "...                                                    ...    ...\n",
              "1076944                      Pero no toqué en la Juventus.      5\n",
              "1076945                           goldman Sachs o libertad      5\n",
              "1076946  El aborto es un asesinato y lo que pasa es un ...      5\n",
              "1076947                        el odio, pero el odio de la      5\n",
              "1076948                            Adolescentes de 21 años      5\n",
              "\n",
              "[1076949 rows x 2 columns]"
            ]
          },
          "execution_count": 9,
          "metadata": {},
          "output_type": "execute_result"
        }
      ],
      "source": [
        "df_in = pd.read_csv('/content/drive/MyDrive/HateMedia/Data/Procesada/Tipos/df_tipos_merged.csv')\n",
        "df_in = df_in.dropna(subset=['message'])\n",
        "df_in = df_in.dropna(subset=['TIPO DE ODIO'])\n",
        "df_in = df_in.reset_index(drop=True)\n",
        "df_in = df_in.rename(columns={'message': 'text','TIPO DE ODIO': 'label'})\n",
        "df_in = df_in[['text','label']]\n",
        "df_in['label'] = df_in['label'] -1\n",
        "df_in['label'] = df_in['label'].astype(int)\n",
        "df_in"
      ]
    },
    {
      "cell_type": "code",
      "execution_count": null,
      "metadata": {
        "id": "PoTqoPSpBKf2"
      },
      "outputs": [],
      "source": [
        "df_in = df_in.loc[df_in['label'] != 2]"
      ]
    },
    {
      "cell_type": "code",
      "execution_count": null,
      "metadata": {
        "colab": {
          "base_uri": "https://localhost:8080/",
          "height": 272
        },
        "id": "STkhd3ZoD4bK",
        "outputId": "f4d88897-6ca8-4e31-89da-aa20196a35b2"
      },
      "outputs": [
        {
          "data": {
            "text/html": [
              "<div>\n",
              "<style scoped>\n",
              "    .dataframe tbody tr th:only-of-type {\n",
              "        vertical-align: middle;\n",
              "    }\n",
              "\n",
              "    .dataframe tbody tr th {\n",
              "        vertical-align: top;\n",
              "    }\n",
              "\n",
              "    .dataframe thead th {\n",
              "        text-align: right;\n",
              "    }\n",
              "</style>\n",
              "<table border=\"1\" class=\"dataframe\">\n",
              "  <thead>\n",
              "    <tr style=\"text-align: right;\">\n",
              "      <th></th>\n",
              "      <th>count</th>\n",
              "    </tr>\n",
              "    <tr>\n",
              "      <th>label</th>\n",
              "      <th></th>\n",
              "    </tr>\n",
              "  </thead>\n",
              "  <tbody>\n",
              "    <tr>\n",
              "      <th>1</th>\n",
              "      <td>416678</td>\n",
              "    </tr>\n",
              "    <tr>\n",
              "      <th>0</th>\n",
              "      <td>284039</td>\n",
              "    </tr>\n",
              "    <tr>\n",
              "      <th>3</th>\n",
              "      <td>142037</td>\n",
              "    </tr>\n",
              "    <tr>\n",
              "      <th>4</th>\n",
              "      <td>123895</td>\n",
              "    </tr>\n",
              "    <tr>\n",
              "      <th>5</th>\n",
              "      <td>110103</td>\n",
              "    </tr>\n",
              "  </tbody>\n",
              "</table>\n",
              "</div><br><label><b>dtype:</b> int64</label>"
            ],
            "text/plain": [
              "label\n",
              "1    416678\n",
              "0    284039\n",
              "3    142037\n",
              "4    123895\n",
              "5    110103\n",
              "Name: count, dtype: int64"
            ]
          },
          "execution_count": 11,
          "metadata": {},
          "output_type": "execute_result"
        }
      ],
      "source": [
        "# see class distribution\n",
        "df_in['label'].value_counts()"
      ]
    },
    {
      "cell_type": "code",
      "execution_count": null,
      "metadata": {
        "id": "VzdpOe-caTGm"
      },
      "outputs": [],
      "source": [
        "df_in.loc[df_in['label'] == 5, 'label'] = 2"
      ]
    },
    {
      "cell_type": "code",
      "execution_count": null,
      "metadata": {
        "colab": {
          "base_uri": "https://localhost:8080/",
          "height": 272
        },
        "id": "VOwjLiupalqz",
        "outputId": "5bb4f2c0-d5ba-45cb-8e5a-858ea2167ccc"
      },
      "outputs": [
        {
          "data": {
            "text/html": [
              "<div>\n",
              "<style scoped>\n",
              "    .dataframe tbody tr th:only-of-type {\n",
              "        vertical-align: middle;\n",
              "    }\n",
              "\n",
              "    .dataframe tbody tr th {\n",
              "        vertical-align: top;\n",
              "    }\n",
              "\n",
              "    .dataframe thead th {\n",
              "        text-align: right;\n",
              "    }\n",
              "</style>\n",
              "<table border=\"1\" class=\"dataframe\">\n",
              "  <thead>\n",
              "    <tr style=\"text-align: right;\">\n",
              "      <th></th>\n",
              "      <th>count</th>\n",
              "    </tr>\n",
              "    <tr>\n",
              "      <th>label</th>\n",
              "      <th></th>\n",
              "    </tr>\n",
              "  </thead>\n",
              "  <tbody>\n",
              "    <tr>\n",
              "      <th>1</th>\n",
              "      <td>416678</td>\n",
              "    </tr>\n",
              "    <tr>\n",
              "      <th>0</th>\n",
              "      <td>284039</td>\n",
              "    </tr>\n",
              "    <tr>\n",
              "      <th>3</th>\n",
              "      <td>142037</td>\n",
              "    </tr>\n",
              "    <tr>\n",
              "      <th>4</th>\n",
              "      <td>123895</td>\n",
              "    </tr>\n",
              "    <tr>\n",
              "      <th>2</th>\n",
              "      <td>110103</td>\n",
              "    </tr>\n",
              "  </tbody>\n",
              "</table>\n",
              "</div><br><label><b>dtype:</b> int64</label>"
            ],
            "text/plain": [
              "label\n",
              "1    416678\n",
              "0    284039\n",
              "3    142037\n",
              "4    123895\n",
              "2    110103\n",
              "Name: count, dtype: int64"
            ]
          },
          "execution_count": 13,
          "metadata": {},
          "output_type": "execute_result"
        }
      ],
      "source": [
        "# see class distribution\n",
        "df_in['label'].value_counts()"
      ]
    },
    {
      "cell_type": "code",
      "execution_count": null,
      "metadata": {
        "id": "5OEsni9hEANd"
      },
      "outputs": [],
      "source": [
        "# Split your DataFrame\n",
        "train_df, temp_df = train_test_split(df_in, test_size=0.2, random_state=42)\n",
        "val_df, test_df = train_test_split(temp_df, test_size=0.5, random_state=42)\n",
        "\n",
        "# convert to tensorflow, tokenize and create datasets in trainable format\n",
        "num_labels = len(df_in['label'].unique())\n",
        "train_dataset = preprocess_data(train_df,num_labels)\n",
        "test_dataset = preprocess_data(test_df,num_labels)\n",
        "val_dataset = preprocess_data(val_df,num_labels)\n"
      ]
    },
    {
      "cell_type": "code",
      "execution_count": null,
      "metadata": {
        "colab": {
          "base_uri": "https://localhost:8080/"
        },
        "id": "0SsVwuB5mmfl",
        "outputId": "627c4f8f-0926-46f7-96b5-9a0054f97d98"
      },
      "outputs": [
        {
          "data": {
            "text/plain": [
              "{0: 0.76, 1: 0.52, 2: 1.95, 3: 1.51, 4: 1.73}"
            ]
          },
          "execution_count": 15,
          "metadata": {},
          "output_type": "execute_result"
        }
      ],
      "source": [
        "# n_samples / (n_classes * np.bincount(y))\n",
        "class_weight = compute_class_weight(class_weight=\"balanced\", classes=np.unique(train_df['label']), y=train_df['label'])\n",
        "class_weight = np.round(class_weight,2).tolist()\n",
        "class_weight = {i: class_weight[i] for i in range(len(class_weight))}\n",
        "class_weight"
      ]
    },
    {
      "cell_type": "markdown",
      "metadata": {
        "id": "6kflWHLAEJbf"
      },
      "source": [
        "# Train"
      ]
    },
    {
      "cell_type": "code",
      "execution_count": null,
      "metadata": {
        "id": "FTBhIsR3ccHY"
      },
      "outputs": [],
      "source": [
        "# create a warmup schedule\n",
        "class WarmupLinearSchedule(tf.keras.optimizers.schedules.LearningRateSchedule):\n",
        "    def __init__(self, warmup_steps, max_lr=2e-5):\n",
        "        super().__init__()\n",
        "        # cast warmup_steps and max_lr to float to tensorflow format\n",
        "        self.warmup_steps = tf.cast(warmup_steps, tf.float32)\n",
        "        self.max_lr = max_lr\n",
        "\n",
        "    def __call__(self, step):\n",
        "        # cast step to tensorflow format\n",
        "        step = tf.cast(step, tf.float32)\n",
        "        # Linear warmup\n",
        "        lr = self.max_lr * (step / self.warmup_steps)\n",
        "        # After warmup, keep constant LR\n",
        "        return tf.minimum(lr, self.max_lr)"
      ]
    },
    {
      "cell_type": "code",
      "execution_count": null,
      "metadata": {
        "colab": {
          "base_uri": "https://localhost:8080/"
        },
        "id": "TFJoW1B1biUB",
        "outputId": "f478b1d6-4911-424e-d590-4a8e77dbe9ce"
      },
      "outputs": [
        {
          "name": "stdout",
          "output_type": "stream",
          "text": [
            "total_steps: 33645 - warmup_steps: 3364\n"
          ]
        }
      ],
      "source": [
        "# Calculate training parameters\n",
        "batch_size = 128\n",
        "epochs = 5\n",
        "steps_per_epoch = len(train_df) // batch_size\n",
        "total_steps = steps_per_epoch * epochs\n",
        "warmup_steps = int(0.1 * total_steps)  # 10% warmup\n",
        "print(\"total_steps:\",total_steps,\"- warmup_steps:\",warmup_steps)"
      ]
    },
    {
      "cell_type": "code",
      "execution_count": null,
      "metadata": {
        "id": "t3B6PrlhpkAj"
      },
      "outputs": [],
      "source": [
        "# Initialize optimizer\n",
        "optimizer = tf.keras.optimizers.Adam(\n",
        "    learning_rate=WarmupLinearSchedule(\n",
        "        warmup_steps=warmup_steps,\n",
        "        max_lr=2e-5))\n",
        "\n",
        "# Early Stopping callback\n",
        "callback = tf.keras.callbacks.EarlyStopping(\n",
        "    monitor='val_f1_score',\n",
        "    mode='max',\n",
        "    restore_best_weights=True,\n",
        "    patience=2,\n",
        "    verbose=1)"
      ]
    },
    {
      "cell_type": "code",
      "execution_count": null,
      "metadata": {
        "colab": {
          "base_uri": "https://localhost:8080/"
        },
        "id": "pGHXDsYBEAQf",
        "outputId": "f4eded2c-3152-463e-b871-780e599ba137"
      },
      "outputs": [
        {
          "name": "stdout",
          "output_type": "stream",
          "text": [
            "Epoch 1/5\n",
            "6730/6730 [==============================] - 2267s 330ms/step - loss: 1.1698 - recall: 0.6736 - precision: 0.1544 - accuracy: 0.0000e+00 - f1_score: 0.5665 - AUC: 0.2957 - recall_at_precision: 0.0000e+00 - precision_at_recall: 0.1713 - val_loss: 1.0175 - val_recall: 0.7298 - val_precision: 0.1444 - val_accuracy: 0.0000e+00 - val_f1_score: 0.6559 - val_AUC: 0.3024 - val_recall_at_precision: 0.0000e+00 - val_precision_at_recall: 0.1719\n",
            "Epoch 2/5\n",
            "6730/6730 [==============================] - 2218s 330ms/step - loss: 1.0095 - recall: 0.7720 - precision: 0.1537 - accuracy: 0.0000e+00 - f1_score: 0.6606 - AUC: 0.3011 - recall_at_precision: 0.0000e+00 - precision_at_recall: 0.1783 - val_loss: 0.9956 - val_recall: 0.7455 - val_precision: 0.1516 - val_accuracy: 0.0000e+00 - val_f1_score: 0.6657 - val_AUC: 0.3025 - val_recall_at_precision: 0.0000e+00 - val_precision_at_recall: 0.1686\n",
            "Epoch 3/5\n",
            "6730/6730 [==============================] - 2217s 329ms/step - loss: 0.9540 - recall: 0.7833 - precision: 0.1609 - accuracy: 0.0000e+00 - f1_score: 0.6827 - AUC: 0.3054 - recall_at_precision: 0.0000e+00 - precision_at_recall: 0.1856 - val_loss: 1.0075 - val_recall: 0.7110 - val_precision: 0.1554 - val_accuracy: 0.0000e+00 - val_f1_score: 0.6632 - val_AUC: 0.3010 - val_recall_at_precision: 0.0000e+00 - val_precision_at_recall: 0.1689\n",
            "Epoch 4/5\n",
            "6730/6730 [==============================] - 2216s 329ms/step - loss: 0.8981 - recall: 0.7945 - precision: 0.1698 - accuracy: 0.0000e+00 - f1_score: 0.7047 - AUC: 0.3114 - recall_at_precision: 0.0000e+00 - precision_at_recall: 0.1932 - val_loss: 1.0160 - val_recall: 0.7082 - val_precision: 0.1654 - val_accuracy: 0.0000e+00 - val_f1_score: 0.6620 - val_AUC: 0.3069 - val_recall_at_precision: 0.0000e+00 - val_precision_at_recall: 0.1760\n",
            "Epoch 4: early stopping\n",
            "Restoring model weights from the end of the best epoch: 2.\n"
          ]
        }
      ],
      "source": [
        "# Compile model\n",
        "classification_model.compile(\n",
        "    optimizer=optimizer,  # Pass the optimizer instance directly\n",
        "    loss=tf.keras.losses.CategoricalCrossentropy(from_logits=True),\n",
        "    metrics=[tf.keras.metrics.Recall(name='recall', class_id=2), # Focus on 2\n",
        "             tf.keras.metrics.Precision(name='precision', class_id=3), # Focus on 3\n",
        "             tf.keras.metrics.Accuracy(name='accuracy'),\n",
        "             tf.keras.metrics.F1Score(name=\"f1_score\", average='weighted'), # Use weighted average for f1_score\n",
        "             tf.keras.metrics.AUC(name='AUC', curve='PR'),\n",
        "             tf.keras.metrics.RecallAtPrecision(precision=0.6, name='recall_at_precision', class_id=3), # Focus on 3\n",
        "             tf.keras.metrics.PrecisionAtRecall(recall=0.6, class_id=2)]) # Focus on )\n",
        "\n",
        "\n",
        "\n",
        "# Train model\n",
        "history = classification_model.fit(\n",
        "    train_dataset.batch(batch_size),\n",
        "    validation_data=val_dataset.batch(batch_size),\n",
        "    batch_size=batch_size,\n",
        "    class_weight=class_weight,\n",
        "    callbacks=callback,\n",
        "    epochs=epochs)\n",
        "\n",
        "# Epoch 3/5\n",
        "# 6731/6731 [==============================] - 2211s 329ms/step - loss: 0.9018 - recall: 0.9735 - precision: 0.1633 - accuracy: 0.0000e+00 - f1_score: 0.6445 - AUC: 0.2808 - recall_at_precision: 0.0000e+00 - precision_at_recall: 0.0179 - val_loss: 1.0580 - val_recall: 0.5926 - val_precision: 0.1621 - val_accuracy: 0.0000e+00 - val_f1_score: 0.6448 - val_AUC: 0.2772 - val_recall_at_precision: 0.0000e+00 - val_precision_at_recall: 0.0161"
      ]
    },
    {
      "cell_type": "code",
      "execution_count": null,
      "metadata": {
        "colab": {
          "base_uri": "https://localhost:8080/"
        },
        "id": "vVR6Nes9AhXO",
        "outputId": "b6c33bf2-4c81-4219-ee45-3dbf4e0a3b2a"
      },
      "outputs": [
        {
          "data": {
            "text/plain": [
              "('/content/drive/MyDrive/HateMedia/Modelos/Tipos/Tipos-trained-robertuito_base_odio_bin_tokenizer__sin_rel_pt1/tokenizer_config.json',\n",
              " '/content/drive/MyDrive/HateMedia/Modelos/Tipos/Tipos-trained-robertuito_base_odio_bin_tokenizer__sin_rel_pt1/special_tokens_map.json',\n",
              " '/content/drive/MyDrive/HateMedia/Modelos/Tipos/Tipos-trained-robertuito_base_odio_bin_tokenizer__sin_rel_pt1/tokenizer.json')"
            ]
          },
          "execution_count": 20,
          "metadata": {},
          "output_type": "execute_result"
        }
      ],
      "source": [
        "# save model weights\n",
        "classification_model.save_weights(\"***/Tipos-trained-robertuito_base_odio_bin__sin_rel_pt1.h5\")\n",
        "\n",
        "# save tokenizer\n",
        "tokenizer.save_pretrained(\"***/Tipos-trained-robertuito_base_odio_bin_tokenizer__sin_rel_pt1\")"
      ]
    },
    {
      "cell_type": "code",
      "execution_count": null,
      "metadata": {
        "id": "SMed-pNBoQ4j"
      },
      "outputs": [],
      "source": [
        "# Early Stopping callback\n",
        "callback = tf.keras.callbacks.EarlyStopping(\n",
        "    monitor='val_loss',\n",
        "    mode='min',\n",
        "    restore_best_weights=True,\n",
        "    patience=2,\n",
        "    verbose=1)"
      ]
    },
    {
      "cell_type": "code",
      "execution_count": null,
      "metadata": {
        "colab": {
          "base_uri": "https://localhost:8080/"
        },
        "id": "Sy-hYsJORdYW",
        "outputId": "741c45b1-1aa8-49e5-95dd-e6c12ba6cffc"
      },
      "outputs": [
        {
          "name": "stdout",
          "output_type": "stream",
          "text": [
            "Epoch 1/5\n",
            "6730/6730 [==============================] - 2259s 330ms/step - loss: 0.9566 - recall: 0.7815 - precision: 0.1611 - accuracy: 0.0000e+00 - f1_score: 0.6818 - AUC: 0.3054 - recall_at_precision: 0.0000e+00 - precision_at_recall_1: 0.0000e+00 - val_loss: 1.0116 - val_recall: 0.6980 - val_precision: 0.1603 - val_accuracy: 0.0000e+00 - val_f1_score: 0.6625 - val_AUC: 0.3028 - val_recall_at_precision: 0.0000e+00 - val_precision_at_recall_1: 0.0000e+00\n",
            "Epoch 2/5\n",
            "6730/6730 [==============================] - 2214s 329ms/step - loss: 0.9021 - recall: 0.7920 - precision: 0.1698 - accuracy: 0.0000e+00 - f1_score: 0.7030 - AUC: 0.3114 - recall_at_precision: 0.0000e+00 - precision_at_recall_1: 0.0000e+00 - val_loss: 1.0117 - val_recall: 0.7186 - val_precision: 0.1568 - val_accuracy: 0.0000e+00 - val_f1_score: 0.6644 - val_AUC: 0.3014 - val_recall_at_precision: 0.0000e+00 - val_precision_at_recall_1: 0.0000e+00\n",
            "Epoch 3/5\n",
            "6730/6730 [==============================] - 2214s 329ms/step - loss: 0.8566 - recall: 0.8025 - precision: 0.1769 - accuracy: 0.0000e+00 - f1_score: 0.7182 - AUC: 0.3169 - recall_at_precision: 0.0000e+00 - precision_at_recall_1: 0.0000e+00 - val_loss: 1.0330 - val_recall: 0.6729 - val_precision: 0.1635 - val_accuracy: 0.0000e+00 - val_f1_score: 0.6599 - val_AUC: 0.3012 - val_recall_at_precision: 0.0000e+00 - val_precision_at_recall_1: 0.0000e+00\n",
            "Epoch 3: early stopping\n",
            "Restoring model weights from the end of the best epoch: 1.\n"
          ]
        }
      ],
      "source": [
        "# Compile model\n",
        "classification_model.compile(\n",
        "    optimizer=tf.keras.optimizers.Adam(learning_rate=2e-5),  # Pass the optimizer instance directly\n",
        "    loss=tf.keras.losses.CategoricalCrossentropy(from_logits=True),\n",
        "    metrics=[tf.keras.metrics.Recall(name='recall', class_id=2), # Focus on 2\n",
        "             tf.keras.metrics.Precision(name='precision', class_id=3), # Focus on 3\n",
        "             tf.keras.metrics.Accuracy(name='accuracy'),\n",
        "             tf.keras.metrics.F1Score(name=\"f1_score\", average='weighted'), # Use weighted average for f1_score\n",
        "             tf.keras.metrics.AUC(name='AUC', curve='PR'),\n",
        "             tf.keras.metrics.RecallAtPrecision(precision=0.9, name='recall_at_precision', class_id=3), # Focus on 3\n",
        "             tf.keras.metrics.PrecisionAtRecall(recall=0.9, class_id=2)]) # Focus on )\n",
        "\n",
        "\n",
        "\n",
        "# Train model\n",
        "history = classification_model.fit(\n",
        "    train_dataset.batch(batch_size),\n",
        "    validation_data=val_dataset.batch(batch_size),\n",
        "    batch_size=batch_size,\n",
        "    class_weight=class_weight,\n",
        "    callbacks=callback,\n",
        "    epochs=epochs)\n",
        "\n",
        "# Epoch 2/5\n",
        "# 6731/6731 [==============================] - 2206s 328ms/step - loss: 0.8222 - recall: 0.9735 - precision: 0.1653 - accuracy: 0.0000e+00 - f1_score: 0.6795 - AUC: 0.2805 - recall_at_precision: 0.0000e+00 - precision_at_recall_1: 0.0130 - val_loss: 1.0533 - val_recall: 0.6296 - val_precision: 0.1629 - val_accuracy: 0.0000e+00 - val_f1_score: 0.6482 - val_AUC: 0.2754 - val_recall_at_precision: 0.0000e+00 - val_precision_at_recall_1: 0.0000e+00\n"
      ]
    },
    {
      "cell_type": "code",
      "execution_count": null,
      "metadata": {
        "id": "Pu66S-fth6gD"
      },
      "outputs": [],
      "source": [
        "# Rebuild the model architecture first\n",
        "classification_model.load_weights(\"***/Tipos-trained-robertuito_base_odio_bin__sin_rel_pt1.h5\")#,skip_mismatch=True, by_name=True)"
      ]
    },
    {
      "cell_type": "markdown",
      "metadata": {
        "id": "wb0AC-Kve6rn"
      },
      "source": [
        "# Results"
      ]
    },
    {
      "cell_type": "code",
      "execution_count": 61,
      "metadata": {
        "colab": {
          "base_uri": "https://localhost:8080/"
        },
        "id": "HXLDXoTxe8eb",
        "outputId": "f0889b6d-9870-46af-fa1d-7fd03b33b561"
      },
      "outputs": [
        {
          "name": "stdout",
          "output_type": "stream",
          "text": [
            "842/842 [==============================] - 95s 109ms/step\n"
          ]
        }
      ],
      "source": [
        "# make predictions\n",
        "predictions = classification_model.predict(test_dataset.batch(batch_size))"
      ]
    },
    {
      "cell_type": "code",
      "execution_count": 62,
      "metadata": {
        "colab": {
          "base_uri": "https://localhost:8080/"
        },
        "id": "WjPbu82ve8ec",
        "outputId": "d252fd99-197e-43c7-f129-004bf7144621"
      },
      "outputs": [
        {
          "data": {
            "text/plain": [
              "array([[20997,  3893,   707,  1663,  1158],\n",
              "       [ 5141, 28395,  2454,  2963,  3014],\n",
              "       [  818,  1876,  6419,   788,  1055],\n",
              "       [ 1641,  1936,   907,  8874,   729],\n",
              "       [  978,  1767,  1402,   702,  7399]])"
            ]
          },
          "execution_count": 62,
          "metadata": {},
          "output_type": "execute_result"
        }
      ],
      "source": [
        "# Get true labels from test_df\n",
        "y_true = test_df['label']\n",
        "\n",
        "# Get predictions from your model\n",
        "y_pred = tf.argmax(predictions, axis=1)  # predictions contains probabilities/logits\n",
        "\n",
        "# calculate confusion matrix\n",
        "cm = confusion_matrix(y_true, y_pred)\n",
        "cm"
      ]
    },
    {
      "cell_type": "code",
      "execution_count": 63,
      "metadata": {
        "colab": {
          "base_uri": "https://localhost:8080/",
          "height": 404
        },
        "id": "RwLjk3yWe8ed",
        "outputId": "93ee5179-7b7c-448f-9f2a-d73621e1fa42"
      },
      "outputs": [
        {
          "data": {
            "image/png": "[encoded data removed]",
            "text/plain": [
              "<Figure size 400x400 with 2 Axes>"
            ]
          },
          "metadata": {},
          "output_type": "display_data"
        }
      ],
      "source": [
        "# plot confusion matrix\n",
        "plt.figure(figsize=(4,4))\n",
        "sns.heatmap(cm, annot=True, fmt=\"d\", cmap=\"Blues\")\n",
        "plt.xlabel(\"\\nPredicted Label\")\n",
        "plt.ylabel(\"True Label\\n\")\n",
        "plt.show()"
      ]
    },
    {
      "cell_type": "code",
      "execution_count": 64,
      "metadata": {
        "colab": {
          "base_uri": "https://localhost:8080/"
        },
        "id": "vGl8VjfKfwKO",
        "outputId": "c9141702-80cf-450d-93b1-e7e31ed4d262"
      },
      "outputs": [
        {
          "name": "stdout",
          "output_type": "stream",
          "text": [
            "Aggregate Metrics:\n",
            "Recall (Macro): 0.6471\n",
            "Precision (Macro): 0.6291\n",
            "F1 (Macro): 0.6372\n",
            "AUC (OvR): 0.7090\n",
            "Accuracy: 0.6695\n",
            "\n",
            "Per-Class Metrics:\n",
            "Class 0: Recall=0.7389, Precision=0.7100, F1=0.7241\n",
            "Class 1: Recall=0.6766, Precision=0.7499, F1=0.7114\n",
            "Class 2: Recall=0.5859, Precision=0.5399, F1=0.5620\n",
            "Class 3: Recall=0.6299, Precision=0.5920, F1=0.6104\n",
            "Class 4: Recall=0.6041, Precision=0.5540, F1=0.5780\n",
            "              precision    recall  f1-score   support\n",
            "\n",
            "           0       0.71      0.74      0.72     28418\n",
            "           1       0.75      0.68      0.71     41967\n",
            "           2       0.54      0.59      0.56     10956\n",
            "           3       0.59      0.63      0.61     14087\n",
            "           4       0.55      0.60      0.58     12248\n",
            "\n",
            "    accuracy                           0.67    107676\n",
            "   macro avg       0.63      0.65      0.64    107676\n",
            "weighted avg       0.68      0.67      0.67    107676\n",
            "\n"
          ]
        }
      ],
      "source": [
        "# Get true labels from test_ds and convert to one-hot encoding\n",
        "y_true_one_hot = tf.keras.utils.to_categorical(y_true, num_classes=num_labels)\n",
        "\n",
        "# For other metrics, get predicted class labels\n",
        "y_pred = tf.argmax(predictions, axis=1)  # predictions contains probabilities/logits\n",
        "\n",
        "\n",
        "# Calculate metrics\n",
        "metrics = {\n",
        "    \"Recall (Macro)\": recall_score(y_true, y_pred, average='macro'),\n",
        "    \"Precision (Macro)\": precision_score(y_true, y_pred, average='macro'),\n",
        "    \"F1 (Macro)\": f1_score(y_true, y_pred, average='macro'),\n",
        "    \"AUC (OvR)\": roc_auc_score(y_true_one_hot, predictions, multi_class='ovr'),  # Use one-hot encoded y_true and y_score\n",
        "    \"Accuracy\": accuracy_score(y_true, y_pred)\n",
        "}\n",
        "\n",
        "# For per-class metrics\n",
        "per_class_metrics = {\n",
        "    \"Recall (Per Class)\": recall_score(y_true, y_pred, average=None),\n",
        "    \"Precision (Per Class)\": precision_score(y_true, y_pred, average=None),\n",
        "    \"F1 (Per Class)\": f1_score(y_true, y_pred, average=None)\n",
        "}\n",
        "\n",
        "# Print results\n",
        "print(\"Aggregate Metrics:\")\n",
        "for k, v in metrics.items():\n",
        "    print(f\"{k}: {v:.4f}\")\n",
        "\n",
        "print(\"\\nPer-Class Metrics:\")\n",
        "for i, (rec, prec, f1) in enumerate(zip(per_class_metrics[\"Recall (Per Class)\"],\n",
        "                                      per_class_metrics[\"Precision (Per Class)\"],\n",
        "                                      per_class_metrics[\"F1 (Per Class)\"])):\n",
        "    print(f\"Class {i}: Recall={rec:.4f}, Precision={prec:.4f}, F1={f1:.4f}\")\n",
        "\n",
        "print(classification_report(y_true, y_pred))"
      ]
    },
    {
      "cell_type": "code",
      "execution_count": 65,
      "metadata": {
        "colab": {
          "base_uri": "https://localhost:8080/",
          "height": 404
        },
        "id": "Zcj7KWEDC_-U",
        "outputId": "0318c7bf-7643-438f-e227-4590881bd243"
      },
      "outputs": [
        {
          "data": {
            "image/png": "[encoded data removed]",
            "text/plain": [
              "<Figure size 400x400 with 2 Axes>"
            ]
          },
          "metadata": {},
          "output_type": "display_data"
        }
      ],
      "source": [
        "# Get true labels from test_df\n",
        "y_true = test_df['label']\n",
        "\n",
        "# Get predictions from your model\n",
        "y_pred = tf.argmax(predictions, axis=1)  # predictions contains probabilities/logits\n",
        "\n",
        "# calculate confusion matrix\n",
        "cm = confusion_matrix(y_true[200:300], y_pred[200:300])\n",
        "\n",
        "# plot confusion matrix\n",
        "plt.figure(figsize=(4,4))\n",
        "sns.heatmap(cm, annot=True, fmt=\"d\", cmap=\"Blues\")\n",
        "plt.xlabel(\"\\nPredicted Label\")\n",
        "plt.ylabel(\"True Label\\n\")\n",
        "plt.show()"
      ]
    },
    {
      "cell_type": "code",
      "execution_count": 66,
      "metadata": {
        "colab": {
          "base_uri": "https://localhost:8080/"
        },
        "id": "pmLu23lfDASI",
        "outputId": "df4519a3-d040-4716-fdb8-e1b5fe432b32"
      },
      "outputs": [
        {
          "name": "stdout",
          "output_type": "stream",
          "text": [
            "Aggregate Metrics:\n",
            "Recall (Macro): 0.7067\n",
            "Precision (Macro): 0.7654\n",
            "F1 (Macro): 0.7169\n",
            "AUC (OvR): 0.7314\n",
            "Accuracy: 0.8000\n",
            "\n",
            "Per-Class Metrics:\n",
            "              precision    recall  f1-score   support\n",
            "\n",
            "           0       0.80      0.97      0.88        33\n",
            "           1       0.85      0.82      0.84        40\n",
            "           2       0.67      0.75      0.71         8\n",
            "           3       0.71      0.62      0.67         8\n",
            "           4       0.80      0.36      0.50        11\n",
            "\n",
            "    accuracy                           0.80       100\n",
            "   macro avg       0.77      0.71      0.72       100\n",
            "weighted avg       0.80      0.80      0.79       100\n",
            "\n"
          ]
        }
      ],
      "source": [
        "# Get true labels from test_ds and convert to one-hot encoding\n",
        "y_true_one_hot = tf.keras.utils.to_categorical(y_true, num_classes=num_labels)\n",
        "\n",
        "# For other metrics, get predicted class labels\n",
        "y_pred = tf.argmax(predictions, axis=1)  # predictions contains probabilities/logits\n",
        "\n",
        "# Calculate metrics\n",
        "metrics = {\n",
        "    \"Recall (Macro)\": recall_score(y_true[200:300], y_pred[200:300], average='macro'),\n",
        "    \"Precision (Macro)\": precision_score(y_true[200:300], y_pred[200:300], average='macro'),\n",
        "    \"F1 (Macro)\": f1_score(y_true[200:300], y_pred[200:300], average='macro'),\n",
        "    \"AUC (OvR)\": roc_auc_score(y_true_one_hot[200:300], predictions[200:300], multi_class='ovr'),  # Use one-hot encoded y_true and y_score\n",
        "    \"Accuracy\": accuracy_score(y_true[200:300], y_pred[200:300])\n",
        "}\n",
        "\n",
        "# For per-class metrics\n",
        "per_class_metrics = {\n",
        "    \"Recall (Per Class)\": recall_score(y_true[200:300], y_pred[200:300], average=None),\n",
        "    \"Precision (Per Class)\": precision_score(y_true[200:300], y_pred[200:300], average=None),\n",
        "    \"F1 (Per Class)\": f1_score(y_true[200:300], y_pred[200:300], average=None)\n",
        "}\n",
        "\n",
        "# Print results\n",
        "print(\"Aggregate Metrics:\")\n",
        "for k, v in metrics.items():\n",
        "    print(f\"{k}: {v:.4f}\")\n",
        "\n",
        "print(\"\\nPer-Class Metrics:\")\n",
        "for i, (rec, prec, f1) in enumerate(zip(per_class_metrics[\"Recall (Per Class)\"][1111:1211],\n",
        "                                      per_class_metrics[\"Precision (Per Class)\"][1111:1211],\n",
        "                                      per_class_metrics[\"F1 (Per Class)\"][1111:1211])):\n",
        "    print(f\"Class {i}: Recall={rec:.4f}, Precision={prec:.4f}, F1={f1:.4f}\")\n",
        "\n",
        "print(classification_report(y_true[200:300], y_pred[200:300]))"
      ]
    },
    {
      "cell_type": "code",
      "execution_count": null,
      "metadata": {
        "id": "CyW_2_6e7t7d"
      },
      "outputs": [],
      "source": [
        "history.history"
      ]
    },
    {
      "cell_type": "markdown",
      "metadata": {
        "id": "qEzHRcZ8mFJ9"
      },
      "source": [
        "# Save the model"
      ]
    },
    {
      "cell_type": "code",
      "execution_count": 67,
      "metadata": {
        "colab": {
          "base_uri": "https://localhost:8080/"
        },
        "id": "Y2UtiOjIBHJc",
        "outputId": "31ae68e8-1da1-4bbb-d130-0a4aec5b5dea"
      },
      "outputs": [
        {
          "name": "stdout",
          "output_type": "stream",
          "text": [
            "Model: \"model\"\n",
            "__________________________________________________________________________________________________\n",
            " Layer (type)                Output Shape                 Param #   Connected to                  \n",
            "==================================================================================================\n",
            " input_ids (InputLayer)      [(None, 128)]                0         []                            \n",
            "                                                                                                  \n",
            " attention_mask (InputLayer  [(None, 128)]                0         []                            \n",
            " )                                                                                                \n",
            "                                                                                                  \n",
            " tf_roberta_for_sequence_cl  TFSequenceClassifierOutput   1087910   ['input_ids[0][0]',           \n",
            " assification (TFRobertaFor  (loss=None, logits=(None,    45         'attention_mask[0][0]']      \n",
            " SequenceClassification)     5),                                                                  \n",
            "                              hidden_states=None, atten                                           \n",
            "                             tions=((None, 12, None, 12                                           \n",
            "                             8),                                                                  \n",
            "                              (None, 12, None, 128),                                              \n",
            "                              (None, 12, None, 128),                                              \n",
            "                              (None, 12, None, 128),                                              \n",
            "                              (None, 12, None, 128),                                              \n",
            "                              (None, 12, None, 128),                                              \n",
            "                              (None, 12, None, 128),                                              \n",
            "                              (None, 12, None, 128),                                              \n",
            "                              (None, 12, None, 128),                                              \n",
            "                              (None, 12, None, 128),                                              \n",
            "                              (None, 12, None, 128),                                              \n",
            "                              (None, 12, None, 128)))                                             \n",
            "                                                                                                  \n",
            " tf.__operators__.getitem (  (None, 5)                    0         ['tf_roberta_for_sequence_clas\n",
            " SlicingOpLambda)                                                   sification[0][12]']           \n",
            "                                                                                                  \n",
            " dense (Dense)               (None, 5)                    30        ['tf.__operators__.getitem[0][\n",
            "                                                                    0]']                          \n",
            "                                                                                                  \n",
            "==================================================================================================\n",
            "Total params: 108791075 (415.01 MB)\n",
            "Trainable params: 108791075 (415.01 MB)\n",
            "Non-trainable params: 0 (0.00 Byte)\n",
            "__________________________________________________________________________________________________\n"
          ]
        }
      ],
      "source": [
        "# Print the model summary\n",
        "classification_model.summary()"
      ]
    },
    {
      "cell_type": "code",
      "execution_count": null,
      "metadata": {
        "id": "Hh4ow7ioyOqa"
      },
      "outputs": [],
      "source": [
        "# save model history (models metrics while training) to csv file\n",
        "history_df = pd.DataFrame(history.history)\n",
        "history_df.to_csv('***/_history_Tipos-trained-robertuito_base_odio_bin.csv')"
      ]
    },
    {
      "cell_type": "code",
      "execution_count": null,
      "metadata": {
        "id": "iBAF8LjND9A9"
      },
      "outputs": [],
      "source": [
        "# save model weights\n",
        "classification_model.save_weights(\"***/Tipos-trained-robertuito_base_odio_bin.h5\")\n",
        "\n",
        "# save tokenizer\n",
        "tokenizer.save_pretrained(\"***/Tipos-trained-robertuito_base_odio_bin_tokenizer\")"
      ]
    },
    {
      "cell_type": "markdown",
      "metadata": {
        "id": "SRllKd7soSGC"
      },
      "source": [
        "# requirements"
      ]
    },
    {
      "cell_type": "code",
      "execution_count": 68,
      "metadata": {
        "id": "i5mgqkWyoVHZ"
      },
      "outputs": [],
      "source": [
        "# save requirements as a txt file\n",
        "!pip freeze > requirements.txt"
      ]
    },
    {
      "cell_type": "code",
      "execution_count": null,
      "metadata": {
        "id": "PrqjWDJup1OH"
      },
      "outputs": [],
      "source": [
        "requirements = pd.read_csv('/content/requirements.txt', header=None)\n",
        "requirements.to_csv('***/requirements.csv', index=False)"
      ]
    },
    {
      "cell_type": "code",
      "execution_count": 71,
      "metadata": {
        "id": "Ef7CLXT-O5NZ"
      },
      "outputs": [],
      "source": [
        "from google.colab import runtime\n",
        "runtime.unassign()"
      ]
    }
  ],
  "metadata": {
    "accelerator": "GPU",
    "colab": {
      "gpuType": "A100",
      "machine_shape": "hm",
      "provenance": [],
      "toc_visible": true
    },
    "kernelspec": {
      "display_name": "Python 3",
      "name": "python3"
    },
    "language_info": {
      "name": "python"
    },
    "widgets": {
      "application/vnd.jupyter.widget-state+json": {
        "0eda2f33af7a4cb79a9c6518b5a4fd0b": {
          "model_module": "@jupyter-widgets/controls",
          "model_module_version": "1.5.0",
          "model_name": "HBoxModel",
          "state": {
            "_dom_classes": [],
            "_model_module": "@jupyter-widgets/controls",
            "_model_module_version": "1.5.0",
            "_model_name": "HBoxModel",
            "_view_count": null,
            "_view_module": "@jupyter-widgets/controls",
            "_view_module_version": "1.5.0",
            "_view_name": "HBoxView",
            "box_style": "",
            "children": [
              "IPY_MODEL_7cd8b524bd8d4b23b360de0a7b4f5714",
              "IPY_MODEL_d12a9c37ee084fa1ba6e6b0287ac7b81",
              "IPY_MODEL_e8278056db07443d815e3be8162ce693"
            ],
            "layout": "IPY_MODEL_dc49f65d28be41ffaac8dd1f6f08cc57"
          }
        },
        "13188dacdbcd41f5b3cefbfc078a40bd": {
          "model_module": "@jupyter-widgets/controls",
          "model_module_version": "1.5.0",
          "model_name": "DescriptionStyleModel",
          "state": {
            "_model_module": "@jupyter-widgets/controls",
            "_model_module_version": "1.5.0",
            "_model_name": "DescriptionStyleModel",
            "_view_count": null,
            "_view_module": "@jupyter-widgets/base",
            "_view_module_version": "1.2.0",
            "_view_name": "StyleView",
            "description_width": ""
          }
        },
        "2508e9ef152940a593ca1c45b2c5c45a": {
          "model_module": "@jupyter-widgets/controls",
          "model_module_version": "1.5.0",
          "model_name": "ProgressStyleModel",
          "state": {
            "_model_module": "@jupyter-widgets/controls",
            "_model_module_version": "1.5.0",
            "_model_name": "ProgressStyleModel",
            "_view_count": null,
            "_view_module": "@jupyter-widgets/base",
            "_view_module_version": "1.2.0",
            "_view_name": "StyleView",
            "bar_color": null,
            "description_width": ""
          }
        },
        "31fa3686c44d4de9971507c264676158": {
          "model_module": "@jupyter-widgets/controls",
          "model_module_version": "1.5.0",
          "model_name": "DescriptionStyleModel",
          "state": {
            "_model_module": "@jupyter-widgets/controls",
            "_model_module_version": "1.5.0",
            "_model_name": "DescriptionStyleModel",
            "_view_count": null,
            "_view_module": "@jupyter-widgets/base",
            "_view_module_version": "1.2.0",
            "_view_name": "StyleView",
            "description_width": ""
          }
        },
        "38c2010cb3c34a278652f67598fd1d95": {
          "model_module": "@jupyter-widgets/base",
          "model_module_version": "1.2.0",
          "model_name": "LayoutModel",
          "state": {
            "_model_module": "@jupyter-widgets/base",
            "_model_module_version": "1.2.0",
            "_model_name": "LayoutModel",
            "_view_count": null,
            "_view_module": "@jupyter-widgets/base",
            "_view_module_version": "1.2.0",
            "_view_name": "LayoutView",
            "align_content": null,
            "align_items": null,
            "align_self": null,
            "border": null,
            "bottom": null,
            "display": null,
            "flex": null,
            "flex_flow": null,
            "grid_area": null,
            "grid_auto_columns": null,
            "grid_auto_flow": null,
            "grid_auto_rows": null,
            "grid_column": null,
            "grid_gap": null,
            "grid_row": null,
            "grid_template_areas": null,
            "grid_template_columns": null,
            "grid_template_rows": null,
            "height": null,
            "justify_content": null,
            "justify_items": null,
            "left": null,
            "margin": null,
            "max_height": null,
            "max_width": null,
            "min_height": null,
            "min_width": null,
            "object_fit": null,
            "object_position": null,
            "order": null,
            "overflow": null,
            "overflow_x": null,
            "overflow_y": null,
            "padding": null,
            "right": null,
            "top": null,
            "visibility": null,
            "width": null
          }
        },
        "3ea4c0c611cd4836bb74b8c2cae289a8": {
          "model_module": "@jupyter-widgets/controls",
          "model_module_version": "1.5.0",
          "model_name": "HTMLModel",
          "state": {
            "_dom_classes": [],
            "_model_module": "@jupyter-widgets/controls",
            "_model_module_version": "1.5.0",
            "_model_name": "HTMLModel",
            "_view_count": null,
            "_view_module": "@jupyter-widgets/controls",
            "_view_module_version": "1.5.0",
            "_view_name": "HTMLView",
            "description": "",
            "description_tooltip": null,
            "layout": "IPY_MODEL_abe8b869db0d4f4f986da7922f120806",
            "placeholder": "​",
            "style": "IPY_MODEL_6f08e4ba10aa4930993c9fe4a9cbe48c",
            "value": "model.safetensors: 100%"
          }
        },
        "43952800213347a082ded63229ef872f": {
          "model_module": "@jupyter-widgets/controls",
          "model_module_version": "1.5.0",
          "model_name": "DescriptionStyleModel",
          "state": {
            "_model_module": "@jupyter-widgets/controls",
            "_model_module_version": "1.5.0",
            "_model_name": "DescriptionStyleModel",
            "_view_count": null,
            "_view_module": "@jupyter-widgets/base",
            "_view_module_version": "1.2.0",
            "_view_name": "StyleView",
            "description_width": ""
          }
        },
        "49428aedeb4c439e92595c2295f6284f": {
          "model_module": "@jupyter-widgets/controls",
          "model_module_version": "1.5.0",
          "model_name": "HBoxModel",
          "state": {
            "_dom_classes": [],
            "_model_module": "@jupyter-widgets/controls",
            "_model_module_version": "1.5.0",
            "_model_name": "HBoxModel",
            "_view_count": null,
            "_view_module": "@jupyter-widgets/controls",
            "_view_module_version": "1.5.0",
            "_view_name": "HBoxView",
            "box_style": "",
            "children": [
              "IPY_MODEL_3ea4c0c611cd4836bb74b8c2cae289a8",
              "IPY_MODEL_8c2638d0442e40eab1014263b480f653",
              "IPY_MODEL_5de38e4e36fa42329b8fdf3f6a8b0be5"
            ],
            "layout": "IPY_MODEL_de9cb91834cd430a8fae81411c7c94f4"
          }
        },
        "5a122352d50b41a4ad2ec6fdbced0995": {
          "model_module": "@jupyter-widgets/base",
          "model_module_version": "1.2.0",
          "model_name": "LayoutModel",
          "state": {
            "_model_module": "@jupyter-widgets/base",
            "_model_module_version": "1.2.0",
            "_model_name": "LayoutModel",
            "_view_count": null,
            "_view_module": "@jupyter-widgets/base",
            "_view_module_version": "1.2.0",
            "_view_name": "LayoutView",
            "align_content": null,
            "align_items": null,
            "align_self": null,
            "border": null,
            "bottom": null,
            "display": null,
            "flex": null,
            "flex_flow": null,
            "grid_area": null,
            "grid_auto_columns": null,
            "grid_auto_flow": null,
            "grid_auto_rows": null,
            "grid_column": null,
            "grid_gap": null,
            "grid_row": null,
            "grid_template_areas": null,
            "grid_template_columns": null,
            "grid_template_rows": null,
            "height": null,
            "justify_content": null,
            "justify_items": null,
            "left": null,
            "margin": null,
            "max_height": null,
            "max_width": null,
            "min_height": null,
            "min_width": null,
            "object_fit": null,
            "object_position": null,
            "order": null,
            "overflow": null,
            "overflow_x": null,
            "overflow_y": null,
            "padding": null,
            "right": null,
            "top": null,
            "visibility": null,
            "width": null
          }
        },
        "5de38e4e36fa42329b8fdf3f6a8b0be5": {
          "model_module": "@jupyter-widgets/controls",
          "model_module_version": "1.5.0",
          "model_name": "HTMLModel",
          "state": {
            "_dom_classes": [],
            "_model_module": "@jupyter-widgets/controls",
            "_model_module_version": "1.5.0",
            "_model_name": "HTMLModel",
            "_view_count": null,
            "_view_module": "@jupyter-widgets/controls",
            "_view_module_version": "1.5.0",
            "_view_name": "HTMLView",
            "description": "",
            "description_tooltip": null,
            "layout": "IPY_MODEL_38c2010cb3c34a278652f67598fd1d95",
            "placeholder": "​",
            "style": "IPY_MODEL_43952800213347a082ded63229ef872f",
            "value": " 435M/435M [00:02&lt;00:00, 247MB/s]"
          }
        },
        "6f08e4ba10aa4930993c9fe4a9cbe48c": {
          "model_module": "@jupyter-widgets/controls",
          "model_module_version": "1.5.0",
          "model_name": "DescriptionStyleModel",
          "state": {
            "_model_module": "@jupyter-widgets/controls",
            "_model_module_version": "1.5.0",
            "_model_name": "DescriptionStyleModel",
            "_view_count": null,
            "_view_module": "@jupyter-widgets/base",
            "_view_module_version": "1.2.0",
            "_view_name": "StyleView",
            "description_width": ""
          }
        },
        "7cd8b524bd8d4b23b360de0a7b4f5714": {
          "model_module": "@jupyter-widgets/controls",
          "model_module_version": "1.5.0",
          "model_name": "HTMLModel",
          "state": {
            "_dom_classes": [],
            "_model_module": "@jupyter-widgets/controls",
            "_model_module_version": "1.5.0",
            "_model_name": "HTMLModel",
            "_view_count": null,
            "_view_module": "@jupyter-widgets/controls",
            "_view_module_version": "1.5.0",
            "_view_name": "HTMLView",
            "description": "",
            "description_tooltip": null,
            "layout": "IPY_MODEL_e5f882f40dfc4076a9a7df84e39b3a35",
            "placeholder": "​",
            "style": "IPY_MODEL_13188dacdbcd41f5b3cefbfc078a40bd",
            "value": "config.json: 100%"
          }
        },
        "8c2638d0442e40eab1014263b480f653": {
          "model_module": "@jupyter-widgets/controls",
          "model_module_version": "1.5.0",
          "model_name": "FloatProgressModel",
          "state": {
            "_dom_classes": [],
            "_model_module": "@jupyter-widgets/controls",
            "_model_module_version": "1.5.0",
            "_model_name": "FloatProgressModel",
            "_view_count": null,
            "_view_module": "@jupyter-widgets/controls",
            "_view_module_version": "1.5.0",
            "_view_name": "ProgressView",
            "bar_style": "success",
            "description": "",
            "description_tooltip": null,
            "layout": "IPY_MODEL_d9f9e8ed36c84244b42e4c8ad75ef8d6",
            "max": 435300276,
            "min": 0,
            "orientation": "horizontal",
            "style": "IPY_MODEL_2508e9ef152940a593ca1c45b2c5c45a",
            "value": 435300276
          }
        },
        "abe8b869db0d4f4f986da7922f120806": {
          "model_module": "@jupyter-widgets/base",
          "model_module_version": "1.2.0",
          "model_name": "LayoutModel",
          "state": {
            "_model_module": "@jupyter-widgets/base",
            "_model_module_version": "1.2.0",
            "_model_name": "LayoutModel",
            "_view_count": null,
            "_view_module": "@jupyter-widgets/base",
            "_view_module_version": "1.2.0",
            "_view_name": "LayoutView",
            "align_content": null,
            "align_items": null,
            "align_self": null,
            "border": null,
            "bottom": null,
            "display": null,
            "flex": null,
            "flex_flow": null,
            "grid_area": null,
            "grid_auto_columns": null,
            "grid_auto_flow": null,
            "grid_auto_rows": null,
            "grid_column": null,
            "grid_gap": null,
            "grid_row": null,
            "grid_template_areas": null,
            "grid_template_columns": null,
            "grid_template_rows": null,
            "height": null,
            "justify_content": null,
            "justify_items": null,
            "left": null,
            "margin": null,
            "max_height": null,
            "max_width": null,
            "min_height": null,
            "min_width": null,
            "object_fit": null,
            "object_position": null,
            "order": null,
            "overflow": null,
            "overflow_x": null,
            "overflow_y": null,
            "padding": null,
            "right": null,
            "top": null,
            "visibility": null,
            "width": null
          }
        },
        "d12a9c37ee084fa1ba6e6b0287ac7b81": {
          "model_module": "@jupyter-widgets/controls",
          "model_module_version": "1.5.0",
          "model_name": "FloatProgressModel",
          "state": {
            "_dom_classes": [],
            "_model_module": "@jupyter-widgets/controls",
            "_model_module_version": "1.5.0",
            "_model_name": "FloatProgressModel",
            "_view_count": null,
            "_view_module": "@jupyter-widgets/controls",
            "_view_module_version": "1.5.0",
            "_view_name": "ProgressView",
            "bar_style": "success",
            "description": "",
            "description_tooltip": null,
            "layout": "IPY_MODEL_5a122352d50b41a4ad2ec6fdbced0995",
            "max": 677,
            "min": 0,
            "orientation": "horizontal",
            "style": "IPY_MODEL_d594ecb1d6ad441499602e26afb9d0d7",
            "value": 677
          }
        },
        "d594ecb1d6ad441499602e26afb9d0d7": {
          "model_module": "@jupyter-widgets/controls",
          "model_module_version": "1.5.0",
          "model_name": "ProgressStyleModel",
          "state": {
            "_model_module": "@jupyter-widgets/controls",
            "_model_module_version": "1.5.0",
            "_model_name": "ProgressStyleModel",
            "_view_count": null,
            "_view_module": "@jupyter-widgets/base",
            "_view_module_version": "1.2.0",
            "_view_name": "StyleView",
            "bar_color": null,
            "description_width": ""
          }
        },
        "d9f9e8ed36c84244b42e4c8ad75ef8d6": {
          "model_module": "@jupyter-widgets/base",
          "model_module_version": "1.2.0",
          "model_name": "LayoutModel",
          "state": {
            "_model_module": "@jupyter-widgets/base",
            "_model_module_version": "1.2.0",
            "_model_name": "LayoutModel",
            "_view_count": null,
            "_view_module": "@jupyter-widgets/base",
            "_view_module_version": "1.2.0",
            "_view_name": "LayoutView",
            "align_content": null,
            "align_items": null,
            "align_self": null,
            "border": null,
            "bottom": null,
            "display": null,
            "flex": null,
            "flex_flow": null,
            "grid_area": null,
            "grid_auto_columns": null,
            "grid_auto_flow": null,
            "grid_auto_rows": null,
            "grid_column": null,
            "grid_gap": null,
            "grid_row": null,
            "grid_template_areas": null,
            "grid_template_columns": null,
            "grid_template_rows": null,
            "height": null,
            "justify_content": null,
            "justify_items": null,
            "left": null,
            "margin": null,
            "max_height": null,
            "max_width": null,
            "min_height": null,
            "min_width": null,
            "object_fit": null,
            "object_position": null,
            "order": null,
            "overflow": null,
            "overflow_x": null,
            "overflow_y": null,
            "padding": null,
            "right": null,
            "top": null,
            "visibility": null,
            "width": null
          }
        },
        "dc49f65d28be41ffaac8dd1f6f08cc57": {
          "model_module": "@jupyter-widgets/base",
          "model_module_version": "1.2.0",
          "model_name": "LayoutModel",
          "state": {
            "_model_module": "@jupyter-widgets/base",
            "_model_module_version": "1.2.0",
            "_model_name": "LayoutModel",
            "_view_count": null,
            "_view_module": "@jupyter-widgets/base",
            "_view_module_version": "1.2.0",
            "_view_name": "LayoutView",
            "align_content": null,
            "align_items": null,
            "align_self": null,
            "border": null,
            "bottom": null,
            "display": null,
            "flex": null,
            "flex_flow": null,
            "grid_area": null,
            "grid_auto_columns": null,
            "grid_auto_flow": null,
            "grid_auto_rows": null,
            "grid_column": null,
            "grid_gap": null,
            "grid_row": null,
            "grid_template_areas": null,
            "grid_template_columns": null,
            "grid_template_rows": null,
            "height": null,
            "justify_content": null,
            "justify_items": null,
            "left": null,
            "margin": null,
            "max_height": null,
            "max_width": null,
            "min_height": null,
            "min_width": null,
            "object_fit": null,
            "object_position": null,
            "order": null,
            "overflow": null,
            "overflow_x": null,
            "overflow_y": null,
            "padding": null,
            "right": null,
            "top": null,
            "visibility": null,
            "width": null
          }
        },
        "de9cb91834cd430a8fae81411c7c94f4": {
          "model_module": "@jupyter-widgets/base",
          "model_module_version": "1.2.0",
          "model_name": "LayoutModel",
          "state": {
            "_model_module": "@jupyter-widgets/base",
            "_model_module_version": "1.2.0",
            "_model_name": "LayoutModel",
            "_view_count": null,
            "_view_module": "@jupyter-widgets/base",
            "_view_module_version": "1.2.0",
            "_view_name": "LayoutView",
            "align_content": null,
            "align_items": null,
            "align_self": null,
            "border": null,
            "bottom": null,
            "display": null,
            "flex": null,
            "flex_flow": null,
            "grid_area": null,
            "grid_auto_columns": null,
            "grid_auto_flow": null,
            "grid_auto_rows": null,
            "grid_column": null,
            "grid_gap": null,
            "grid_row": null,
            "grid_template_areas": null,
            "grid_template_columns": null,
            "grid_template_rows": null,
            "height": null,
            "justify_content": null,
            "justify_items": null,
            "left": null,
            "margin": null,
            "max_height": null,
            "max_width": null,
            "min_height": null,
            "min_width": null,
            "object_fit": null,
            "object_position": null,
            "order": null,
            "overflow": null,
            "overflow_x": null,
            "overflow_y": null,
            "padding": null,
            "right": null,
            "top": null,
            "visibility": null,
            "width": null
          }
        },
        "e5f882f40dfc4076a9a7df84e39b3a35": {
          "model_module": "@jupyter-widgets/base",
          "model_module_version": "1.2.0",
          "model_name": "LayoutModel",
          "state": {
            "_model_module": "@jupyter-widgets/base",
            "_model_module_version": "1.2.0",
            "_model_name": "LayoutModel",
            "_view_count": null,
            "_view_module": "@jupyter-widgets/base",
            "_view_module_version": "1.2.0",
            "_view_name": "LayoutView",
            "align_content": null,
            "align_items": null,
            "align_self": null,
            "border": null,
            "bottom": null,
            "display": null,
            "flex": null,
            "flex_flow": null,
            "grid_area": null,
            "grid_auto_columns": null,
            "grid_auto_flow": null,
            "grid_auto_rows": null,
            "grid_column": null,
            "grid_gap": null,
            "grid_row": null,
            "grid_template_areas": null,
            "grid_template_columns": null,
            "grid_template_rows": null,
            "height": null,
            "justify_content": null,
            "justify_items": null,
            "left": null,
            "margin": null,
            "max_height": null,
            "max_width": null,
            "min_height": null,
            "min_width": null,
            "object_fit": null,
            "object_position": null,
            "order": null,
            "overflow": null,
            "overflow_x": null,
            "overflow_y": null,
            "padding": null,
            "right": null,
            "top": null,
            "visibility": null,
            "width": null
          }
        },
        "e8278056db07443d815e3be8162ce693": {
          "model_module": "@jupyter-widgets/controls",
          "model_module_version": "1.5.0",
          "model_name": "HTMLModel",
          "state": {
            "_dom_classes": [],
            "_model_module": "@jupyter-widgets/controls",
            "_model_module_version": "1.5.0",
            "_model_name": "HTMLModel",
            "_view_count": null,
            "_view_module": "@jupyter-widgets/controls",
            "_view_module_version": "1.5.0",
            "_view_name": "HTMLView",
            "description": "",
            "description_tooltip": null,
            "layout": "IPY_MODEL_eadb4305c5894ce1b48931fe05f6d7fc",
            "placeholder": "​",
            "style": "IPY_MODEL_31fa3686c44d4de9971507c264676158",
            "value": " 677/677 [00:00&lt;00:00, 82.5kB/s]"
          }
        },
        "eadb4305c5894ce1b48931fe05f6d7fc": {
          "model_module": "@jupyter-widgets/base",
          "model_module_version": "1.2.0",
          "model_name": "LayoutModel",
          "state": {
            "_model_module": "@jupyter-widgets/base",
            "_model_module_version": "1.2.0",
            "_model_name": "LayoutModel",
            "_view_count": null,
            "_view_module": "@jupyter-widgets/base",
            "_view_module_version": "1.2.0",
            "_view_name": "LayoutView",
            "align_content": null,
            "align_items": null,
            "align_self": null,
            "border": null,
            "bottom": null,
            "display": null,
            "flex": null,
            "flex_flow": null,
            "grid_area": null,
            "grid_auto_columns": null,
            "grid_auto_flow": null,
            "grid_auto_rows": null,
            "grid_column": null,
            "grid_gap": null,
            "grid_row": null,
            "grid_template_areas": null,
            "grid_template_columns": null,
            "grid_template_rows": null,
            "height": null,
            "justify_content": null,
            "justify_items": null,
            "left": null,
            "margin": null,
            "max_height": null,
            "max_width": null,
            "min_height": null,
            "min_width": null,
            "object_fit": null,
            "object_position": null,
            "order": null,
            "overflow": null,
            "overflow_x": null,
            "overflow_y": null,
            "padding": null,
            "right": null,
            "top": null,
            "visibility": null,
            "width": null
          }
        }
      }
    }
  },
  "nbformat": 4,
  "nbformat_minor": 0
}
